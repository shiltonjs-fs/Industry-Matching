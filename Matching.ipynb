{
 "cells": [
  {
   "cell_type": "code",
   "execution_count": 12,
   "metadata": {},
   "outputs": [
    {
     "name": "stderr",
     "output_type": "stream",
     "text": [
      "/opt/anaconda3/envs/myenv/lib/python3.11/site-packages/tqdm/auto.py:21: TqdmWarning: IProgress not found. Please update jupyter and ipywidgets. See https://ipywidgets.readthedocs.io/en/stable/user_install.html\n",
      "  from .autonotebook import tqdm as notebook_tqdm\n"
     ]
    }
   ],
   "source": [
    "import re\n",
    "import os\n",
    "import pickle\n",
    "import snowflake.connector\n",
    "from snowflake.connector.pandas_tools import write_pandas\n",
    "import pandas as pd\n",
    "import numpy as np\n",
    "from sklearn.preprocessing import RobustScaler\n",
    "import matplotlib.pyplot as plt\n",
    "from sklearn_extra.cluster import KMedoids\n",
    "from sklearn.cluster import KMeans\n",
    "from sklearn.datasets import make_blobs\n",
    "\n",
    "import torch\n",
    "from transformers import AutoModelForSequenceClassification, AutoTokenizer\n",
    "from sentence_transformers import SentenceTransformer, util"
   ]
  },
  {
   "cell_type": "code",
   "execution_count": 7,
   "metadata": {},
   "outputs": [],
   "source": [
    "# Get SQL query file as data input \n",
    "def get_sql_file_as_text(file_path):\n",
    "  \n",
    "  with open(file_path, 'r') as f:\n",
    "    sql_content = f.read()\n",
    "  return sql_content\n",
    "\n",
    "# Establish connection with Snowflake\n",
    "conn = snowflake.connector.connect(connection_name=\"fundingsociety.sg.ap-southeast-1.aws.privatelink\")"
   ]
  },
  {
   "cell_type": "code",
   "execution_count": 66,
   "metadata": {},
   "outputs": [],
   "source": [
    "# Get data from file\n",
    "# sql_file = \"Scratch.sql\"\n",
    "# my_query = get_sql_file_as_text(sql_file)\n",
    "\n",
    "# Or, type in query manually\n",
    "ssic_industry_query = \"select distinct primary_ssic_description from DEV.SBOX_ADITHYA.SG_GOV_ADDITIONAL_DATA;\"\n",
    "\n",
    "cu_industry_query = \"select distinct industry from CBM.CARDUP_DB_REPORTING.COMPANY_DATA;\"\n",
    "\n",
    "# Get data from query\n",
    "ssic_industry = conn.cursor().execute(ssic_industry_query).fetch_pandas_all()\n",
    "cu_industry = conn.cursor().execute(cu_industry_query).fetch_pandas_all()\n",
    "\n",
    "# Manual fixes of industry names\n",
    "\n",
    "# Remove manufacturing from name\n",
    "cu_industry['INDUSTRY'] = cu_industry['INDUSTRY'].replace('Electrical/Electronic Manufacturing', 'Electrical and Electronics')"
   ]
  },
  {
   "cell_type": "code",
   "execution_count": 67,
   "metadata": {},
   "outputs": [
    {
     "data": {
      "text/html": [
       "<div>\n",
       "<style scoped>\n",
       "    .dataframe tbody tr th:only-of-type {\n",
       "        vertical-align: middle;\n",
       "    }\n",
       "\n",
       "    .dataframe tbody tr th {\n",
       "        vertical-align: top;\n",
       "    }\n",
       "\n",
       "    .dataframe thead th {\n",
       "        text-align: right;\n",
       "    }\n",
       "</style>\n",
       "<table border=\"1\" class=\"dataframe\">\n",
       "  <thead>\n",
       "    <tr style=\"text-align: right;\">\n",
       "      <th></th>\n",
       "      <th>PRIMARY_SSIC_DESCRIPTION</th>\n",
       "    </tr>\n",
       "  </thead>\n",
       "  <tbody>\n",
       "    <tr>\n",
       "      <th>0</th>\n",
       "      <td>MANUFACTURE OF JEWELLERY EXCEPT COSTUME JEWELLERY</td>\n",
       "    </tr>\n",
       "    <tr>\n",
       "      <th>1</th>\n",
       "      <td>RETAIL SALE OF TEXTILES</td>\n",
       "    </tr>\n",
       "    <tr>\n",
       "      <th>2</th>\n",
       "      <td>MONEY-LENDING</td>\n",
       "    </tr>\n",
       "    <tr>\n",
       "      <th>3</th>\n",
       "      <td>GENERAL CLEANING SERVICES (INCLUDING CLEANING ...</td>\n",
       "    </tr>\n",
       "    <tr>\n",
       "      <th>4</th>\n",
       "      <td>OTHER BUSINESS SUPPORT SERVICE ACTIVITIES (E.G...</td>\n",
       "    </tr>\n",
       "  </tbody>\n",
       "</table>\n",
       "</div>"
      ],
      "text/plain": [
       "                            PRIMARY_SSIC_DESCRIPTION\n",
       "0  MANUFACTURE OF JEWELLERY EXCEPT COSTUME JEWELLERY\n",
       "1                            RETAIL SALE OF TEXTILES\n",
       "2                                      MONEY-LENDING\n",
       "3  GENERAL CLEANING SERVICES (INCLUDING CLEANING ...\n",
       "4  OTHER BUSINESS SUPPORT SERVICE ACTIVITIES (E.G..."
      ]
     },
     "execution_count": 67,
     "metadata": {},
     "output_type": "execute_result"
    }
   ],
   "source": [
    "# Sample SSIC df\n",
    "ssic_industry.head()"
   ]
  },
  {
   "cell_type": "code",
   "execution_count": 68,
   "metadata": {},
   "outputs": [
    {
     "data": {
      "text/html": [
       "<div>\n",
       "<style scoped>\n",
       "    .dataframe tbody tr th:only-of-type {\n",
       "        vertical-align: middle;\n",
       "    }\n",
       "\n",
       "    .dataframe tbody tr th {\n",
       "        vertical-align: top;\n",
       "    }\n",
       "\n",
       "    .dataframe thead th {\n",
       "        text-align: right;\n",
       "    }\n",
       "</style>\n",
       "<table border=\"1\" class=\"dataframe\">\n",
       "  <thead>\n",
       "    <tr style=\"text-align: right;\">\n",
       "      <th></th>\n",
       "      <th>INDUSTRY</th>\n",
       "    </tr>\n",
       "  </thead>\n",
       "  <tbody>\n",
       "    <tr>\n",
       "      <th>0</th>\n",
       "      <td>None</td>\n",
       "    </tr>\n",
       "    <tr>\n",
       "      <th>1</th>\n",
       "      <td>Health, Wellness &amp; Fitness</td>\n",
       "    </tr>\n",
       "    <tr>\n",
       "      <th>2</th>\n",
       "      <td>Food Production</td>\n",
       "    </tr>\n",
       "    <tr>\n",
       "      <th>3</th>\n",
       "      <td>Education Management</td>\n",
       "    </tr>\n",
       "    <tr>\n",
       "      <th>4</th>\n",
       "      <td>Accounting</td>\n",
       "    </tr>\n",
       "  </tbody>\n",
       "</table>\n",
       "</div>"
      ],
      "text/plain": [
       "                     INDUSTRY\n",
       "0                        None\n",
       "1  Health, Wellness & Fitness\n",
       "2             Food Production\n",
       "3        Education Management\n",
       "4                  Accounting"
      ]
     },
     "execution_count": 68,
     "metadata": {},
     "output_type": "execute_result"
    }
   ],
   "source": [
    "# Sample CU df\n",
    "cu_industry.head()"
   ]
  },
  {
   "cell_type": "code",
   "execution_count": 69,
   "metadata": {},
   "outputs": [],
   "source": [
    "# Load a sentence embedding model\n",
    "model = SentenceTransformer('all-mpnet-base-v2')"
   ]
  },
  {
   "cell_type": "code",
   "execution_count": 70,
   "metadata": {},
   "outputs": [
    {
     "data": {
      "text/html": [
       "<div>\n",
       "<style scoped>\n",
       "    .dataframe tbody tr th:only-of-type {\n",
       "        vertical-align: middle;\n",
       "    }\n",
       "\n",
       "    .dataframe tbody tr th {\n",
       "        vertical-align: top;\n",
       "    }\n",
       "\n",
       "    .dataframe thead th {\n",
       "        text-align: right;\n",
       "    }\n",
       "</style>\n",
       "<table border=\"1\" class=\"dataframe\">\n",
       "  <thead>\n",
       "    <tr style=\"text-align: right;\">\n",
       "      <th></th>\n",
       "      <th>INDUSTRY</th>\n",
       "      <th>PREDICTED_L1</th>\n",
       "      <th>CONFIDENCE</th>\n",
       "    </tr>\n",
       "  </thead>\n",
       "  <tbody>\n",
       "    <tr>\n",
       "      <th>0</th>\n",
       "      <td>Thai Restaurant</td>\n",
       "      <td>Food and Beverages</td>\n",
       "      <td>0.419048</td>\n",
       "    </tr>\n",
       "    <tr>\n",
       "      <th>1</th>\n",
       "      <td>Clinic</td>\n",
       "      <td>Healthcare</td>\n",
       "      <td>0.557442</td>\n",
       "    </tr>\n",
       "    <tr>\n",
       "      <th>2</th>\n",
       "      <td>Manufacture of Electronics</td>\n",
       "      <td>Manufacturing</td>\n",
       "      <td>0.594247</td>\n",
       "    </tr>\n",
       "  </tbody>\n",
       "</table>\n",
       "</div>"
      ],
      "text/plain": [
       "                     INDUSTRY        PREDICTED_L1  CONFIDENCE\n",
       "0             Thai Restaurant  Food and Beverages    0.419048\n",
       "1                      Clinic          Healthcare    0.557442\n",
       "2  Manufacture of Electronics       Manufacturing    0.594247"
      ]
     },
     "execution_count": 70,
     "metadata": {},
     "output_type": "execute_result"
    }
   ],
   "source": [
    "# Example!!\n",
    "\n",
    "# Define L1 and L2 categories\n",
    "l1_categories = [\"Food and Beverages\", \"Healthcare\", \"Manufacturing\"]\n",
    "l2_categories = [\"Thai Restaurant\", \"Clinic\", \"Manufacture of Electronics\"]\n",
    "\n",
    "# Compute embeddings\n",
    "l1_embeddings = model.encode(l1_categories, convert_to_tensor=True)\n",
    "l2_embeddings = model.encode(l2_categories, convert_to_tensor=True)\n",
    "\n",
    "# Create a DataFrame for L2 categories\n",
    "l2_df = pd.DataFrame({'INDUSTRY': l2_categories})\n",
    "\n",
    "# Add columns for predicted L1 categories and confidence\n",
    "l2_df['PREDICTED_L1'] = \"\"\n",
    "l2_df['CONFIDENCE'] = 0.0\n",
    "\n",
    "# Compute cosine similarity and assign predicted L1 and confidence\n",
    "for i, l2 in enumerate(l2_categories):\n",
    "    similarities = util.cos_sim(l2_embeddings[i], l1_embeddings)\n",
    "    best_match_idx = similarities.argmax().item()\n",
    "    l2_df.loc[i, 'PREDICTED_L1'] = l1_categories[best_match_idx]\n",
    "    l2_df.loc[i, 'CONFIDENCE'] = similarities[0, best_match_idx].item() \n",
    "\n",
    "# Check resulting DF\n",
    "l2_df.head()"
   ]
  },
  {
   "cell_type": "code",
   "execution_count": 71,
   "metadata": {},
   "outputs": [
    {
     "data": {
      "text/html": [
       "<div>\n",
       "<style scoped>\n",
       "    .dataframe tbody tr th:only-of-type {\n",
       "        vertical-align: middle;\n",
       "    }\n",
       "\n",
       "    .dataframe tbody tr th {\n",
       "        vertical-align: top;\n",
       "    }\n",
       "\n",
       "    .dataframe thead th {\n",
       "        text-align: right;\n",
       "    }\n",
       "</style>\n",
       "<table border=\"1\" class=\"dataframe\">\n",
       "  <thead>\n",
       "    <tr style=\"text-align: right;\">\n",
       "      <th></th>\n",
       "      <th>PRIMARY_SSIC_DESCRIPTION</th>\n",
       "      <th>PREDICTED_L1</th>\n",
       "      <th>CONFIDENCE</th>\n",
       "    </tr>\n",
       "  </thead>\n",
       "  <tbody>\n",
       "    <tr>\n",
       "      <th>0</th>\n",
       "      <td>MANUFACTURE OF JEWELLERY EXCEPT COSTUME JEWELLERY</td>\n",
       "      <td>Luxury Goods &amp; Jewelry</td>\n",
       "      <td>0.608357</td>\n",
       "    </tr>\n",
       "    <tr>\n",
       "      <th>1</th>\n",
       "      <td>RETAIL SALE OF TEXTILES</td>\n",
       "      <td>Textiles</td>\n",
       "      <td>0.628690</td>\n",
       "    </tr>\n",
       "    <tr>\n",
       "      <th>2</th>\n",
       "      <td>MONEY-LENDING</td>\n",
       "      <td>Banking</td>\n",
       "      <td>0.587641</td>\n",
       "    </tr>\n",
       "    <tr>\n",
       "      <th>3</th>\n",
       "      <td>GENERAL CLEANING SERVICES (INCLUDING CLEANING ...</td>\n",
       "      <td>Facilities Services</td>\n",
       "      <td>0.507376</td>\n",
       "    </tr>\n",
       "    <tr>\n",
       "      <th>4</th>\n",
       "      <td>OTHER BUSINESS SUPPORT SERVICE ACTIVITIES (E.G...</td>\n",
       "      <td>Consumer Services</td>\n",
       "      <td>0.572760</td>\n",
       "    </tr>\n",
       "  </tbody>\n",
       "</table>\n",
       "</div>"
      ],
      "text/plain": [
       "                            PRIMARY_SSIC_DESCRIPTION            PREDICTED_L1  \\\n",
       "0  MANUFACTURE OF JEWELLERY EXCEPT COSTUME JEWELLERY  Luxury Goods & Jewelry   \n",
       "1                            RETAIL SALE OF TEXTILES                Textiles   \n",
       "2                                      MONEY-LENDING                 Banking   \n",
       "3  GENERAL CLEANING SERVICES (INCLUDING CLEANING ...     Facilities Services   \n",
       "4  OTHER BUSINESS SUPPORT SERVICE ACTIVITIES (E.G...       Consumer Services   \n",
       "\n",
       "   CONFIDENCE  \n",
       "0    0.608357  \n",
       "1    0.628690  \n",
       "2    0.587641  \n",
       "3    0.507376  \n",
       "4    0.572760  "
      ]
     },
     "execution_count": 71,
     "metadata": {},
     "output_type": "execute_result"
    }
   ],
   "source": [
    "# Define L1 and L2 categories\n",
    "l1_categories = cu_industry['INDUSTRY'].tolist()\n",
    "l2_categories = ssic_industry['PRIMARY_SSIC_DESCRIPTION'].tolist()\n",
    "\n",
    "# Compute embeddings\n",
    "l1_embeddings = model.encode(l1_categories, convert_to_tensor=True)\n",
    "l2_embeddings = model.encode(l2_categories, convert_to_tensor=True)\n",
    "\n",
    "# Create a DataFrame for L2 categories\n",
    "l2_df = pd.DataFrame({'PRIMARY_SSIC_DESCRIPTION': l2_categories})\n",
    "\n",
    "# Add columns for predicted L1 categories and confidence\n",
    "l2_df['PREDICTED_L1'] = \"\"\n",
    "l2_df['CONFIDENCE'] = 0.0\n",
    "\n",
    "# Compute cosine similarity and assign predicted L1 and confidence\n",
    "for i, l2 in enumerate(l2_categories):\n",
    "    similarities = util.cos_sim(l2_embeddings[i], l1_embeddings)\n",
    "    best_match_idx = similarities.argmax().item()\n",
    "    l2_df.loc[i, 'PREDICTED_L1'] = l1_categories[best_match_idx]\n",
    "    l2_df.loc[i, 'CONFIDENCE'] = similarities[0, best_match_idx].item() \n",
    "\n",
    "# Check resulting DF\n",
    "l2_df.head()"
   ]
  },
  {
   "cell_type": "code",
   "execution_count": 72,
   "metadata": {},
   "outputs": [],
   "source": [
    "l2_df.to_csv('l2_df.csv', index=False)"
   ]
  }
 ],
 "metadata": {
  "kernelspec": {
   "display_name": "myenv",
   "language": "python",
   "name": "python3"
  },
  "language_info": {
   "codemirror_mode": {
    "name": "ipython",
    "version": 3
   },
   "file_extension": ".py",
   "mimetype": "text/x-python",
   "name": "python",
   "nbconvert_exporter": "python",
   "pygments_lexer": "ipython3",
   "version": "3.11.10"
  }
 },
 "nbformat": 4,
 "nbformat_minor": 2
}
