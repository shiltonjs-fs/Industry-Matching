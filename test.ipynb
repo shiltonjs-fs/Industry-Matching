{
 "cells": [
  {
   "cell_type": "code",
   "execution_count": null,
   "metadata": {},
   "outputs": [],
   "source": [
    "import re\n",
    "import os\n",
    "import pickle\n",
    "import snowflake.connector\n",
    "from snowflake.connector.pandas_tools import write_pandas\n",
    "import pandas as pd\n",
    "import numpy as np\n",
    "from sklearn.preprocessing import RobustScaler\n",
    "import matplotlib.pyplot as plt\n",
    "from sklearn_extra.cluster import KMedoids\n",
    "from sklearn.cluster import KMeans\n",
    "from sklearn.datasets import make_blobs\n",
    "\n",
    "import torch\n",
    "from transformers import AutoModelForSequenceClassification, AutoTokenizer\n",
    "from sentence_transformers import SentenceTransformer, util\n",
    "\n",
    "# Example!!\n",
    "\n",
    "# Load a sentence embedding model\n",
    "model = SentenceTransformer('all-mpnet-base-v2')\n",
    "\n",
    "# Define L1 and L2 categories\n",
    "l1_categories = [\"Food and Beverages\", \"Healthcare\", \"Manufacturing\"]\n",
    "l2_categories = [\"Thai Restaurant\", \"Clinic\", \"Manufacture of Electronics\"]\n",
    "\n",
    "# Compute embeddings\n",
    "l1_embeddings = model.encode(l1_categories, convert_to_tensor=True)\n",
    "l2_embeddings = model.encode(l2_categories, convert_to_tensor=True)\n",
    "\n",
    "# Create a DataFrame for L2 categories\n",
    "l2_df = pd.DataFrame({'INDUSTRY': l2_categories})\n",
    "\n",
    "# Add columns for predicted L1 categories and confidence\n",
    "l2_df['PREDICTED_L1'] = \"\"\n",
    "l2_df['CONFIDENCE'] = 0.0\n",
    "\n",
    "# Compute cosine similarity and assign predicted L1 and confidence\n",
    "for i, l2 in enumerate(l2_categories):\n",
    "    similarities = util.cos_sim(l2_embeddings[i], l1_embeddings)\n",
    "    best_match_idx = similarities.argmax().item()\n",
    "    l2_df.loc[i, 'PREDICTED_L1'] = l1_categories[best_match_idx]\n",
    "    l2_df.loc[i, 'CONFIDENCE'] = similarities[0, best_match_idx].item() \n",
    "\n",
    "# Check resulting DF\n",
    "l2_df.head()"
   ]
  }
 ],
 "metadata": {
  "language_info": {
   "name": "python"
  }
 },
 "nbformat": 4,
 "nbformat_minor": 2
}
